{
 "cells": [
  {
   "cell_type": "markdown",
   "metadata": {},
   "source": [
    "import keras\n",
    "from keras.models import Sequential\n",
    "from keras.layers import Dense, Dropout\n",
    "from keras.utils import to_categorical"
   ]
  },
  {
   "cell_type": "code",
   "execution_count": 1,
   "metadata": {},
   "outputs": [],
   "source": [
    "import pandas"
   ]
  },
  {
   "cell_type": "code",
   "execution_count": 2,
   "metadata": {},
   "outputs": [],
   "source": [
    "df = pandas.read_csv(\"C:\\\\Users\\\\sante\\\\Desktop\\\\мой нлп - Лист1-2.csv\", encoding=\"utf-8\")\n",
    "\n",
    "# тестовые данные\n",
    "valid = df[\"title\"].isin(['Интерстеллар', \"Омерзительная восьмерка\", \"Тройной форсаж: Токийский дрифт\"])\n",
    "test = df[valid]\n",
    "del test['title']\n",
    "\n",
    "# удалили наши данные(оставили данные для обучения)\n",
    "df = df.loc[df['title'] != \"Интерстеллар\"]\n",
    "df = df.loc[df['title'] != \"Омерзительная восьмерка\"]\n",
    "df = df.loc[df['title'] != \"Тройной форсаж: Токийский дрифт\"]\n",
    "del df['title']"
   ]
  },
  {
   "cell_type": "code",
   "execution_count": 3,
   "metadata": {},
   "outputs": [
    {
     "data": {
      "text/plain": [
       "<bound method NDFrame.head of                                                   text  label\n",
       "0    Дон Блут – один из самых известных анимационны...     -1\n",
       "1    Отрицательных рецензий на этот мультфильм очен...     -1\n",
       "2    \\nЧестно признаюсь: в детстве я если и смотрел...     -1\n",
       "3    \\nВпервые я познакомилась с творением студии '...     -1\n",
       "4    \\nЯ узнала про мультфильм 'Анастасия' на продл...     -1\n",
       "..                                                 ...    ...\n",
       "585  Питер Джексон уже не тот...  Пишу как человек,...     -1\n",
       "586  Ждали-ждали - дождались  Около двух лет назад ...     -1\n",
       "587  Три часа скукоты  В том, что «Хоббит: Нежданно...     -1\n",
       "588  что-то случилось с любимым нами Средиземьем  В...     -1\n",
       "589  Детям фильм смотреть нельзя  Фильм не понравил...     -1\n",
       "\n",
       "[590 rows x 2 columns]>"
      ]
     },
     "execution_count": 3,
     "metadata": {},
     "output_type": "execute_result"
    }
   ],
   "source": [
    " df.head"
   ]
  },
  {
   "cell_type": "code",
   "execution_count": 4,
   "metadata": {},
   "outputs": [],
   "source": [
    "def tokenizeWord(word):\n",
    "    word = tokenizer.tokenize(word)\n",
    "    if len(word) == 1:\n",
    "        word = word[0]\n",
    "    else:\n",
    "        word = \"\"\n",
    "    return word\n"
   ]
  },
  {
   "cell_type": "code",
   "execution_count": 5,
   "metadata": {},
   "outputs": [],
   "source": [
    "\n",
    "import pymorphy2\n",
    "from nltk.tokenize import RegexpTokenizer\n",
    "morph = pymorphy2.MorphAnalyzer()\n",
    "tokenizer = RegexpTokenizer(r'\\w+')\n",
    "uniqWords = []\n",
    "tupleIndex = 0\n",
    "sentences = []\n",
    "for tuple in df.values:\n",
    "    tupleIndex+=1\n",
    "    words = tuple[0].split()\n",
    "    wordsList = []\n",
    "    for word in words:\n",
    "        wordNF = tokenizeWord(morph.parse(word)[0].normal_form)\n",
    "        uniqWords.append(wordNF)\n",
    "        wordsList.append(wordNF)\n",
    "    sentences.append(wordsList)\n",
    "tupleIndex = 0\n",
    "testSentences = []\n",
    "for tuple in test.values:\n",
    "    tupleIndex+=1\n",
    "    words = tuple[0].split()\n",
    "    wordsList = []\n",
    "    for word in words:\n",
    "        wordNF = tokenizeWord(morph.parse(word)[0].normal_form)\n",
    "        uniqWords.append(wordNF)\n",
    "        wordsList.append(wordNF)\n",
    "    testSentences.append(wordsList)"
   ]
  },
  {
   "cell_type": "code",
   "execution_count": 27,
   "metadata": {},
   "outputs": [
    {
     "name": "stdout",
     "output_type": "stream",
     "text": [
      "273477\n"
     ]
    }
   ],
   "source": [
    "from keras.preprocessing.text import Tokenizer\n",
    "from keras.preprocessing.sequence import pad_sequences\n",
    "\n",
    "print(len(uniqWords))\n",
    "\n",
    "tokenizer = Tokenizer(num_words=len(uniqWords))\n",
    "tokenizer.fit_on_texts(sentences)\n",
    "\n",
    "vocab_size = len(tokenizer.word_index) + 1\n",
    "maxlen = 100\n",
    "\n",
    "X_train = tokenizer.texts_to_sequences(sentences)\n",
    "X_test = tokenizer.texts_to_sequences(testSentences)"
   ]
  },
  {
   "cell_type": "code",
   "execution_count": 28,
   "metadata": {},
   "outputs": [],
   "source": [
    "X_train = pad_sequences(X_train, padding='post', maxlen=maxlen)\n",
    "X_test = pad_sequences(X_test, padding='post', maxlen=maxlen)"
   ]
  },
  {
   "cell_type": "code",
   "execution_count": 29,
   "metadata": {},
   "outputs": [
    {
     "name": "stdout",
     "output_type": "stream",
     "text": [
      "25916\n"
     ]
    }
   ],
   "source": [
    "print(vocab_size)\n"
   ]
  },
  {
   "cell_type": "code",
   "execution_count": 30,
   "metadata": {},
   "outputs": [],
   "source": [
    "from keras.utils import to_categorical\n",
    "y_train = df[\"label\"]\n",
    "y_test = test[\"label\"]\n",
    "\n",
    "num_classes = 3\n",
    "\n",
    "y_train = to_categorical(y_train, num_classes)\n",
    "y_test = to_categorical(y_test, num_classes)\n"
   ]
  },
  {
   "cell_type": "code",
   "execution_count": 31,
   "metadata": {},
   "outputs": [],
   "source": [
    "import numpy as np\n",
    "def create_embedding_matrix(filepath, word_index, embedding_dim):\n",
    "    vocab_size = len(word_index) + 1  # Adding again 1 because of reserved 0 index\n",
    "    embedding_matrix = np.zeros((vocab_size, embedding_dim))\n",
    "\n",
    "    with open(filepath, encoding=\"utf-8\") as f:\n",
    "        for line in f:\n",
    "            word, *vector = line.split()\n",
    "            word = word.split(\"_\")[0]\n",
    "            if word in word_index:\n",
    "                idx = word_index[word] \n",
    "                embedding_matrix[idx] = np.array(\n",
    "                    vector, dtype=np.float32)[:embedding_dim]\n",
    "\n",
    "    return embedding_matrix"
   ]
  },
  {
   "cell_type": "code",
   "execution_count": 32,
   "metadata": {},
   "outputs": [],
   "source": [
    "embedding_dim = 300\n",
    "embedding_matrix = create_embedding_matrix('C:/Users/sante/Desktop/model.txt', tokenizer.word_index, embedding_dim)"
   ]
  },
  {
   "cell_type": "code",
   "execution_count": 33,
   "metadata": {},
   "outputs": [
    {
     "name": "stdout",
     "output_type": "stream",
     "text": [
      "(25916, 300)\n",
      "14052\n"
     ]
    },
    {
     "data": {
      "text/plain": [
       "0.5422133045223029"
      ]
     },
     "execution_count": 33,
     "metadata": {},
     "output_type": "execute_result"
    }
   ],
   "source": [
    "nonzero_elements = np.count_nonzero(np.count_nonzero(embedding_matrix, axis=1))\n",
    "print(embedding_matrix.shape)\n",
    "print(nonzero_elements)\n",
    "nonzero_elements / vocab_size"
   ]
  },
  {
   "cell_type": "code",
   "execution_count": 37,
   "metadata": {},
   "outputs": [
    {
     "name": "stdout",
     "output_type": "stream",
     "text": [
      "Model: \"sequential_6\"\n",
      "_________________________________________________________________\n",
      "Layer (type)                 Output Shape              Param #   \n",
      "=================================================================\n",
      "embedding_6 (Embedding)      (None, 100, 300)          7774800   \n",
      "_________________________________________________________________\n",
      "lstm_5 (LSTM)                (None, 300)               721200    \n",
      "_________________________________________________________________\n",
      "dense_5 (Dense)              (None, 3)                 903       \n",
      "=================================================================\n",
      "Total params: 8,496,903\n",
      "Trainable params: 8,496,903\n",
      "Non-trainable params: 0\n",
      "_________________________________________________________________\n"
     ]
    }
   ],
   "source": [
    "from keras.layers import Dense, Dropout, Activation, Input, LSTM\n",
    "from keras.models import Sequential\n",
    "from keras import layers\n",
    "model = Sequential()\n",
    "model.add(layers.Embedding(vocab_size, embedding_dim, \n",
    "                           weights=[embedding_matrix], \n",
    "                           input_length=maxlen, \n",
    "                           trainable=True))\n",
    "model.add(LSTM(300, dropout=0.2, recurrent_dropout=0.2))\n",
    "model.add(Dense(num_classes, activation='sigmoid'))\n",
    "model.summary()"
   ]
  },
  {
   "cell_type": "code",
   "execution_count": 38,
   "metadata": {},
   "outputs": [],
   "source": [
    "model.compile(loss='categorical_crossentropy',\n",
    "              optimizer='adam',\n",
    "              metrics=['accuracy'])\n"
   ]
  },
  {
   "cell_type": "code",
   "execution_count": 40,
   "metadata": {},
   "outputs": [
    {
     "name": "stdout",
     "output_type": "stream",
     "text": [
      "Epoch 1/30\n",
      "590/590 [==============================] - 10s 17ms/step - loss: 0.2698 - accuracy: 0.9220\n",
      "Epoch 2/30\n",
      "590/590 [==============================] - 10s 17ms/step - loss: 0.2346 - accuracy: 0.9339\n",
      "Epoch 3/30\n",
      "590/590 [==============================] - 10s 16ms/step - loss: 0.1924 - accuracy: 0.9458\n",
      "Epoch 4/30\n",
      "590/590 [==============================] - 10s 17ms/step - loss: 0.1552 - accuracy: 0.9593\n",
      "Epoch 5/30\n",
      "590/590 [==============================] - 10s 16ms/step - loss: 0.1514 - accuracy: 0.9661\n",
      "Epoch 6/30\n",
      "590/590 [==============================] - 10s 17ms/step - loss: 0.1591 - accuracy: 0.9661\n",
      "Epoch 7/30\n",
      "590/590 [==============================] - 10s 17ms/step - loss: 0.1630 - accuracy: 0.9525\n",
      "Epoch 8/30\n",
      "590/590 [==============================] - 10s 16ms/step - loss: 0.1105 - accuracy: 0.9814\n",
      "Epoch 9/30\n",
      "590/590 [==============================] - 10s 17ms/step - loss: 0.0805 - accuracy: 0.9847\n",
      "Epoch 10/30\n",
      "590/590 [==============================] - 10s 17ms/step - loss: 0.0796 - accuracy: 0.9763\n",
      "Epoch 11/30\n",
      "590/590 [==============================] - 10s 17ms/step - loss: 0.0571 - accuracy: 0.9831\n",
      "Epoch 12/30\n",
      "590/590 [==============================] - 10s 17ms/step - loss: 0.0554 - accuracy: 0.9898\n",
      "Epoch 13/30\n",
      "590/590 [==============================] - 10s 16ms/step - loss: 0.0508 - accuracy: 0.9847\n",
      "Epoch 14/30\n",
      "590/590 [==============================] - 10s 17ms/step - loss: 0.0633 - accuracy: 0.9763\n",
      "Epoch 15/30\n",
      "590/590 [==============================] - 10s 17ms/step - loss: 0.0495 - accuracy: 0.9864\n",
      "Epoch 16/30\n",
      "590/590 [==============================] - 10s 16ms/step - loss: 0.0498 - accuracy: 0.9847\n",
      "Epoch 17/30\n",
      "590/590 [==============================] - 10s 17ms/step - loss: 0.0436 - accuracy: 0.9864\n",
      "Epoch 18/30\n",
      "590/590 [==============================] - 10s 16ms/step - loss: 0.0408 - accuracy: 0.9881\n",
      "Epoch 19/30\n",
      "590/590 [==============================] - 10s 17ms/step - loss: 0.0483 - accuracy: 0.9864\n",
      "Epoch 20/30\n",
      "590/590 [==============================] - 10s 17ms/step - loss: 0.0455 - accuracy: 0.9814\n",
      "Epoch 21/30\n",
      "590/590 [==============================] - 10s 16ms/step - loss: 0.0537 - accuracy: 0.9864\n",
      "Epoch 22/30\n",
      "590/590 [==============================] - 10s 17ms/step - loss: 0.0364 - accuracy: 0.9847\n",
      "Epoch 23/30\n",
      "590/590 [==============================] - 10s 17ms/step - loss: 0.0350 - accuracy: 0.9881\n",
      "Epoch 24/30\n",
      "590/590 [==============================] - 10s 17ms/step - loss: 0.0212 - accuracy: 0.9949\n",
      "Epoch 25/30\n",
      "590/590 [==============================] - 10s 17ms/step - loss: 0.0287 - accuracy: 0.9881\n",
      "Epoch 26/30\n",
      "590/590 [==============================] - 10s 16ms/step - loss: 0.0621 - accuracy: 0.9831\n",
      "Epoch 27/30\n",
      "590/590 [==============================] - 10s 17ms/step - loss: 0.0361 - accuracy: 0.9864\n",
      "Epoch 28/30\n",
      "590/590 [==============================] - 10s 17ms/step - loss: 0.0418 - accuracy: 0.9898\n",
      "Epoch 29/30\n",
      "590/590 [==============================] - 10s 17ms/step - loss: 0.0315 - accuracy: 0.9898\n",
      "Epoch 30/30\n",
      "590/590 [==============================] - 10s 17ms/step - loss: 0.0228 - accuracy: 0.9966\n",
      "              precision    recall  f1-score   support\n",
      "\n",
      "           0       0.39      0.37      0.38        30\n",
      "           1       0.73      0.63      0.68        30\n",
      "           2       0.42      0.50      0.45        30\n",
      "\n",
      "    accuracy                           0.50        90\n",
      "   macro avg       0.51      0.50      0.50        90\n",
      "weighted avg       0.51      0.50      0.50        90\n",
      "\n"
     ]
    }
   ],
   "source": [
    "model.fit(X_train, y_train, epochs=30, batch_size=128)\n",
    "predictions = model.predict(X_test)\n",
    "print(classification_report(y_test.argmax(axis=1), predictions.argmax(axis=1)))"
   ]
  },
  {
   "cell_type": "code",
   "execution_count": null,
   "metadata": {},
   "outputs": [],
   "source": []
  }
 ],
 "metadata": {
  "kernelspec": {
   "display_name": "Python 3",
   "language": "python",
   "name": "python3"
  },
  "language_info": {
   "codemirror_mode": {
    "name": "ipython",
    "version": 3
   },
   "file_extension": ".py",
   "mimetype": "text/x-python",
   "name": "python",
   "nbconvert_exporter": "python",
   "pygments_lexer": "ipython3",
   "version": "3.7.6"
  }
 },
 "nbformat": 4,
 "nbformat_minor": 4
}
