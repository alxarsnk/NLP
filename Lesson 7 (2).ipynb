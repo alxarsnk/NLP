{
 "cells": [
  {
   "cell_type": "code",
   "execution_count": 1,
   "metadata": {},
   "outputs": [],
   "source": [
    "import pandas\n",
    "import pymorphy2\n",
    "from nltk.tokenize import RegexpTokenizer\n",
    "morph = pymorphy2.MorphAnalyzer()\n",
    "tokenizer = RegexpTokenizer(r'\\w+')"
   ]
  },
  {
   "cell_type": "code",
   "execution_count": 2,
   "metadata": {},
   "outputs": [],
   "source": [
    "df = pandas.read_csv(\"C:\\\\Users\\\\sante\\\\Desktop\\\\мой нлп - Лист1-2.csv\", encoding=\"utf-8\")\n",
    "\n",
    "# тестовые данные\n",
    "valid = df[\"title\"].isin(['Интерстеллар', \"Омерзительная восьмерка\", \"Тройной форсаж: Токийский дрифт\"])\n",
    "test = df[valid]\n",
    "del test['title']\n",
    "\n",
    "# удалили наши данные(оставили данные для обучения)\n",
    "df = df.loc[df['title'] != \"Интерстеллар\"]\n",
    "df = df.loc[df['title'] != \"Омерзительная восьмерка\"]\n",
    "df = df.loc[df['title'] != \"Тройной форсаж: Токийский дрифт\"]\n",
    "del df['title']"
   ]
  },
  {
   "cell_type": "code",
   "execution_count": 3,
   "metadata": {},
   "outputs": [
    {
     "data": {
      "text/plain": [
       "<bound method NDFrame.head of                                                   text  label\n",
       "0    Дон Блут – один из самых известных анимационны...     -1\n",
       "1    Отрицательных рецензий на этот мультфильм очен...     -1\n",
       "2    \\nЧестно признаюсь: в детстве я если и смотрел...     -1\n",
       "3    \\nВпервые я познакомилась с творением студии '...     -1\n",
       "4    \\nЯ узнала про мультфильм 'Анастасия' на продл...     -1\n",
       "..                                                 ...    ...\n",
       "585  Питер Джексон уже не тот...  Пишу как человек,...     -1\n",
       "586  Ждали-ждали - дождались  Около двух лет назад ...     -1\n",
       "587  Три часа скукоты  В том, что «Хоббит: Нежданно...     -1\n",
       "588  что-то случилось с любимым нами Средиземьем  В...     -1\n",
       "589  Детям фильм смотреть нельзя  Фильм не понравил...     -1\n",
       "\n",
       "[590 rows x 2 columns]>"
      ]
     },
     "execution_count": 3,
     "metadata": {},
     "output_type": "execute_result"
    }
   ],
   "source": [
    "df.head"
   ]
  },
  {
   "cell_type": "code",
   "execution_count": 4,
   "metadata": {},
   "outputs": [],
   "source": [
    "def tokenizeWord(word):\n",
    "    word = tokenizer.tokenize(word)\n",
    "    if len(word) == 1:\n",
    "        word = word[0]\n",
    "    else:\n",
    "        word = \"\"\n",
    "    return word"
   ]
  },
  {
   "cell_type": "code",
   "execution_count": 5,
   "metadata": {},
   "outputs": [],
   "source": [
    "uniqWords = []\n",
    "tupleIndex = 0\n",
    "sentences = []\n",
    "for tuple in df.values:\n",
    "    tupleIndex+=1\n",
    "    words = tuple[0].split()\n",
    "    wordsList = []\n",
    "    for word in words:\n",
    "        wordNF = tokenizeWord(morph.parse(word)[0].normal_form)\n",
    "        uniqWords.append(wordNF)\n",
    "        wordsList.append(wordNF)\n",
    "    sentences.append(wordsList)\n",
    "tupleIndex = 0\n",
    "testSentences = []\n",
    "for tuple in test.values:\n",
    "    tupleIndex+=1\n",
    "    words = tuple[0].split()\n",
    "    wordsList = []\n",
    "    for word in words:\n",
    "        wordNF = tokenizeWord(morph.parse(word)[0].normal_form)\n",
    "        uniqWords.append(wordNF)\n",
    "        wordsList.append(wordNF)\n",
    "    testSentences.append(wordsList)"
   ]
  },
  {
   "cell_type": "code",
   "execution_count": 6,
   "metadata": {},
   "outputs": [],
   "source": [
    "import multiprocessing\n",
    "from gensim.models import Word2Vec\n",
    "uniqWords = set(uniqWords)\n",
    "model = Word2Vec(sentences=sentences,min_count=1,size=50)"
   ]
  },
  {
   "cell_type": "code",
   "execution_count": 7,
   "metadata": {},
   "outputs": [
    {
     "name": "stdout",
     "output_type": "stream",
     "text": [
      "[('амели', 0.9998201131820679), ('идея', 0.9998074769973755), ('тут', 0.9998012781143188), ('начинать', 0.9997977018356323), ('смысл', 0.9997847676277161), ('дело', 0.9997847080230713), ('здесь', 0.9997807145118713), ('начать', 0.9997804164886475), ('время', 0.9997758865356445), ('почему', 0.9997738599777222)]\n",
      "[('посмотреть', 0.9989514946937561), ('ни', 0.9988264441490173), ('плохой', 0.9985913634300232), ('только', 0.9985641837120056), ('поход', 0.9985373020172119), ('кино', 0.9985154867172241), ('кто', 0.9984852075576782), ('несмотря', 0.9984041452407837), ('нужно', 0.9983731508255005), ('этот', 0.9983561635017395)]\n",
      "[('нет', 0.9997385144233704), ('много', 0.9997354745864868), ('даже', 0.9997287392616272), ('мы', 0.9997202754020691), ('но', 0.9996963739395142), ('ты', 0.9996821880340576), ('ну', 0.9996635913848877), ('вот', 0.999660849571228), ('уже', 0.9996534585952759), ('все', 0.999649703502655)]\n",
      "[('собственный', 0.9992032051086426), ('джон', 0.999193549156189), ('работа', 0.999190628528595), ('являться', 0.9991881251335144), ('два', 0.9991875886917114), ('забавный', 0.9991784691810608), ('кадр', 0.9991602897644043), ('благодаря', 0.9991596341133118), ('отличный', 0.9991561770439148), ('поэтов', 0.9991556406021118)]\n",
      "[('героиня', 0.9997471570968628), ('персонаж', 0.9996322393417358), ('сценарий', 0.9995868802070618), ('сцена', 0.9995752573013306), ('разный', 0.999521017074585), ('глубокий', 0.9995161890983582), ('являться', 0.9995116591453552), ('яркий', 0.9995019435882568), ('два', 0.9994981288909912), ('героя', 0.9994814395904541)]\n"
     ]
    }
   ],
   "source": [
    "print(model.wv.most_similar('конец'))\n",
    "print(model.wv.most_similar('фильм'))\n",
    "print(model.wv.most_similar('он'))\n",
    "print(model.wv.most_similar('режиссер'))\n",
    "print(model.wv.most_similar('герой'))"
   ]
  },
  {
   "cell_type": "code",
   "execution_count": 8,
   "metadata": {},
   "outputs": [
    {
     "name": "stdout",
     "output_type": "stream",
     "text": [
      "[ 0.00655722 -0.00448587  0.00135379 -0.00653863 -0.00624461  0.00416122\n",
      "  0.01504749  0.03680665 -0.06079569  0.02115461 -0.07996404  0.02717822\n",
      " -0.04134552  0.05607507 -0.01689739  0.00066547  0.0287894   0.0324901\n",
      " -0.03891056  0.04444839  0.01099535 -0.00237673  0.03054265 -0.05335897\n",
      "  0.01247396  0.00650215 -0.01516874  0.00621232  0.03730186 -0.00979579\n",
      " -0.04780384  0.02349715  0.00338331  0.00325101 -0.04447849 -0.04639287\n",
      " -0.04266626 -0.02022582  0.00584296  0.01900918  0.04012205 -0.03678497\n",
      "  0.04464997  0.04940165  0.02589019  0.00507945  0.01536379  0.02687091\n",
      " -0.02062068 -0.03230522]\n"
     ]
    }
   ],
   "source": [
    "def getMiddleValue(arrays):\n",
    "    finalArray = []\n",
    "    for i in range(50):\n",
    "        finalArray.append(int(0))\n",
    "    for array in arrays:\n",
    "        for j in range(len(array)):\n",
    "            finalArray[j] += array[j]\n",
    "    for value in finalArray:\n",
    "        value = value/len(arrays)\n",
    "    return list(finalArray)\n",
    "print(model.wv['блут'])"
   ]
  },
  {
   "cell_type": "code",
   "execution_count": 9,
   "metadata": {},
   "outputs": [],
   "source": [
    "columns = []\n",
    "for i in range(50):\n",
    "    columns.append(i)\n",
    "X_train = pandas.DataFrame(columns = columns)\n",
    "index = 0\n",
    "for comment in sentences:\n",
    "    index += 1\n",
    "    arrays = []\n",
    "    for word in comment:\n",
    "        vector = model.wv[word]\n",
    "        arrays.append(vector)\n",
    "    X_train.loc[index] = getMiddleValue(arrays)\n"
   ]
  },
  {
   "cell_type": "code",
   "execution_count": 10,
   "metadata": {},
   "outputs": [],
   "source": [
    "Y_train = df[\"label\"]\n",
    "Y_test = test[\"label\"]"
   ]
  },
  {
   "cell_type": "code",
   "execution_count": 11,
   "metadata": {},
   "outputs": [],
   "source": [
    "from sklearn.ensemble import RandomForestClassifier\n",
    "randomForestCLF = RandomForestClassifier(max_depth=20, random_state=0).fit(X_train, Y_train)"
   ]
  },
  {
   "cell_type": "code",
   "execution_count": 12,
   "metadata": {},
   "outputs": [],
   "source": [
    "columns = []\n",
    "for i in range(50):\n",
    "    columns.append(i)\n",
    "X_test = pandas.DataFrame(columns = columns)\n",
    "index = 0\n",
    "for comment in testSentences:\n",
    "    index += 1\n",
    "    arrays = []\n",
    "    for word in comment:\n",
    "        if word in list(model.wv.vocab.keys()):\n",
    "            vector = model.wv[word]\n",
    "            arrays.append(vector)\n",
    "        else:\n",
    "            vector = []\n",
    "            for i in range(50):\n",
    "                vector.append(0)\n",
    "            arrays.append(vector)\n",
    "    X_test.loc[index] = list(getMiddleValue(arrays))"
   ]
  },
  {
   "cell_type": "code",
   "execution_count": 13,
   "metadata": {},
   "outputs": [],
   "source": [
    "from sklearn.metrics import precision_recall_fscore_support\n",
    "randomForestPredict = randomForestCLF.predict(X_test)\n",
    "randomForestMetric = precision_recall_fscore_support(test[\"label\"].values, randomForestPredict, average='weighted')"
   ]
  },
  {
   "cell_type": "code",
   "execution_count": 14,
   "metadata": {},
   "outputs": [
    {
     "name": "stdout",
     "output_type": "stream",
     "text": [
      "(0.47367488931056295, 0.4777777777777778, 0.4738387978142076, None)\n"
     ]
    }
   ],
   "source": [
    "print(randomForestMetric)"
   ]
  },
  {
   "cell_type": "code",
   "execution_count": null,
   "metadata": {},
   "outputs": [],
   "source": []
  }
 ],
 "metadata": {
  "kernelspec": {
   "display_name": "Python 3",
   "language": "python",
   "name": "python3"
  },
  "language_info": {
   "codemirror_mode": {
    "name": "ipython",
    "version": 3
   },
   "file_extension": ".py",
   "mimetype": "text/x-python",
   "name": "python",
   "nbconvert_exporter": "python",
   "pygments_lexer": "ipython3",
   "version": "3.7.6"
  }
 },
 "nbformat": 4,
 "nbformat_minor": 4
}
